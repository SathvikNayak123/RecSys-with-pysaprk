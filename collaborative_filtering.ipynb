{
 "cells": [
  {
   "cell_type": "code",
   "execution_count": 1,
   "metadata": {},
   "outputs": [],
   "source": [
    "from pyspark.sql import SparkSession\n",
    "from pyspark.ml.recommendation import ALS\n",
    "from pyspark.sql import functions as F\n",
    "from pyspark.ml.evaluation import RegressionEvaluator\n",
    "from pyspark.sql.types import IntegerType\n",
    "from pyspark.ml.feature import StringIndexer"
   ]
  },
  {
   "cell_type": "code",
   "execution_count": 2,
   "metadata": {},
   "outputs": [],
   "source": [
    "# Initialize Spark Session\n",
    "spark = SparkSession.builder \\\n",
    "    .appName(\"Book Recommendation System\") \\\n",
    "    .master(\"local[*]\") \\\n",
    "    .getOrCreate()\n",
    "\n",
    "# Load dataset\n",
    "ratings = spark.read.csv('artifacts/Books_rating.csv', header=True, inferSchema=True)\n",
    "ratings = ratings.selectExpr(\"cast(Id as int) as bookid\", \"User_id as userid\", \"cast(`review/score` as float) as rating\")"
   ]
  },
  {
   "cell_type": "code",
   "execution_count": 3,
   "metadata": {},
   "outputs": [],
   "source": [
    "# Remove rows with null values in bookid, userid, or rating columns\n",
    "ratings = ratings.dropna(subset=[\"bookid\", \"userid\", \"rating\"])"
   ]
  },
  {
   "cell_type": "code",
   "execution_count": 4,
   "metadata": {},
   "outputs": [
    {
     "name": "stdout",
     "output_type": "stream",
     "text": [
      "+----------+--------------+------+\n",
      "|    bookid|        userid|rating|\n",
      "+----------+--------------+------+\n",
      "|1882931173| AVCGYZL8FQQTD|   4.0|\n",
      "| 826414346|A30TK6U7DNS82R|   5.0|\n",
      "| 826414346|A3UH4UZ4RSVO82|   5.0|\n",
      "| 826414346|A2MVUWT453QH61|   4.0|\n",
      "| 826414346|A22X4XUPKF66MR|   4.0|\n",
      "+----------+--------------+------+\n",
      "only showing top 5 rows\n",
      "\n"
     ]
    }
   ],
   "source": [
    "ratings.show(5)"
   ]
  },
  {
   "cell_type": "code",
   "execution_count": 5,
   "metadata": {},
   "outputs": [],
   "source": [
    "# Apply StringIndexer to `userid`\n",
    "indexer = StringIndexer(inputCol=\"userid\", outputCol=\"userIndex\")\n",
    "ratings = indexer.fit(ratings).transform(ratings)\n",
    "\n",
    "# Convert `userIndex` to integer, if required\n",
    "ratings = ratings.withColumn(\"userIndex\", ratings[\"userIndex\"].cast(IntegerType()))"
   ]
  },
  {
   "cell_type": "code",
   "execution_count": 6,
   "metadata": {},
   "outputs": [],
   "source": [
    "# Min-Max scaling\n",
    "min_rating, max_rating = ratings.agg(F.min(\"rating\"), F.max(\"rating\")).first()\n",
    "ratings = ratings.withColumn(\n",
    "    \"rating_normalized\", (ratings[\"rating\"] - min_rating) / ( max_rating - min_rating)\n",
    ")"
   ]
  },
  {
   "cell_type": "code",
   "execution_count": 7,
   "metadata": {},
   "outputs": [
    {
     "name": "stdout",
     "output_type": "stream",
     "text": [
      "root\n",
      " |-- bookid: integer (nullable = true)\n",
      " |-- userid: string (nullable = true)\n",
      " |-- rating: float (nullable = true)\n",
      " |-- userIndex: integer (nullable = true)\n",
      " |-- rating_normalized: double (nullable = true)\n",
      "\n"
     ]
    }
   ],
   "source": [
    "ratings.printSchema()"
   ]
  },
  {
   "cell_type": "code",
   "execution_count": 8,
   "metadata": {},
   "outputs": [
    {
     "name": "stdout",
     "output_type": "stream",
     "text": [
      "+----------+--------------+------+---------+-----------------+\n",
      "|    bookid|        userid|rating|userIndex|rating_normalized|\n",
      "+----------+--------------+------+---------+-----------------+\n",
      "|1882931173| AVCGYZL8FQQTD|   4.0|   125092|             0.75|\n",
      "| 826414346|A30TK6U7DNS82R|   5.0|       32|              1.0|\n",
      "| 826414346|A3UH4UZ4RSVO82|   5.0|    49888|              1.0|\n",
      "| 826414346|A2MVUWT453QH61|   4.0|     2820|             0.75|\n",
      "| 826414346|A22X4XUPKF66MR|   4.0|    20168|             0.75|\n",
      "+----------+--------------+------+---------+-----------------+\n",
      "only showing top 5 rows\n",
      "\n"
     ]
    }
   ],
   "source": [
    "ratings.show(5)"
   ]
  },
  {
   "cell_type": "code",
   "execution_count": 9,
   "metadata": {},
   "outputs": [],
   "source": [
    "# Split data into training and test sets\n",
    "training, test = ratings.randomSplit([0.8, 0.2])"
   ]
  },
  {
   "cell_type": "code",
   "execution_count": 10,
   "metadata": {},
   "outputs": [
    {
     "name": "stdout",
     "output_type": "stream",
     "text": [
      "Training data count: 839370\n",
      "Test data count: 209825\n"
     ]
    }
   ],
   "source": [
    "print(f\"Training data count: {training.count()}\")\n",
    "print(f\"Test data count: {test.count()}\")"
   ]
  },
  {
   "cell_type": "code",
   "execution_count": 11,
   "metadata": {},
   "outputs": [],
   "source": [
    "# Define the ALS model\n",
    "als = ALS(\n",
    "    maxIter=10,\n",
    "    regParam=0.1,\n",
    "    userCol=\"userIndex\",\n",
    "    itemCol=\"bookid\",\n",
    "    ratingCol=\"rating_normalized\",\n",
    "    coldStartStrategy=\"drop\"\n",
    ")"
   ]
  },
  {
   "cell_type": "code",
   "execution_count": 12,
   "metadata": {},
   "outputs": [],
   "source": [
    "# Fit the model on the training data\n",
    "model = als.fit(training)"
   ]
  },
  {
   "cell_type": "code",
   "execution_count": 13,
   "metadata": {},
   "outputs": [
    {
     "name": "stdout",
     "output_type": "stream",
     "text": [
      "Root-mean-square error = 0.42631756329224046\n"
     ]
    }
   ],
   "source": [
    "# Evaluate the model on the test data\n",
    "evaluator = RegressionEvaluator(\n",
    "    metricName=\"rmse\",\n",
    "    labelCol=\"rating_normalized\",\n",
    "    predictionCol=\"prediction\"\n",
    ")\n",
    "predictions = model.transform(test)\n",
    "rmse = evaluator.evaluate(predictions)\n",
    "print(f\"Root-mean-square error = {rmse}\")"
   ]
  },
  {
   "cell_type": "code",
   "execution_count": 14,
   "metadata": {},
   "outputs": [],
   "source": [
    "# Select the first 10 users from the DataFrame \n",
    "users_subset = ratings.select(\"userIndex\").distinct().limit(10)"
   ]
  },
  {
   "cell_type": "code",
   "execution_count": 15,
   "metadata": {},
   "outputs": [
    {
     "name": "stdout",
     "output_type": "stream",
     "text": [
      "+---------+------------------------------------------------------------------------------------------------------------------------------+\n",
      "|userIndex|recommendations                                                                                                               |\n",
      "+---------+------------------------------------------------------------------------------------------------------------------------------+\n",
      "|409910   |[{976203952, 0.969468}, {1930429487, 0.67282873}, {671505076, 0.63108337}, {595219152, 0.62023413}, {1401899226, 0.6188895}]  |\n",
      "|442022   |[{976203952, 1.3084507}, {801484294, 1.0401274}, {966765907, 1.0350088}, {874805635, 1.0350088}, {1843920247, 0.9633909}]     |\n",
      "|3794     |[{976203952, 1.521776}, {801484294, 0.90918815}, {1572240326, 0.861024}, {1561631809, 0.860424}, {810817411, 0.8502454}]      |\n",
      "|18654    |[{1841450251, 0.92235994}, {1858288789, 0.89032066}, {791454428, 0.88175905}, {851706622, 0.8805537}, {940567067, 0.86939144}]|\n",
      "|443065   |[{976203952, 0.6999443}, {2070364593, 0.67792004}, {872863921, 0.67792004}, {1420837699, 0.67223746}, {23785101, 0.6435063}]  |\n",
      "|564996   |[{840799365, 0.98828566}, {940567067, 0.97759706}, {791454428, 0.95501584}, {810816857, 0.92587835}, {595193269, 0.9179573}]  |\n",
      "|429449   |[{976203952, 0.96459955}, {198206542, 0.73336893}, {745141447, 0.7017332}, {380757796, 0.67964256}, {700608761, 0.6783146}]   |\n",
      "+---------+------------------------------------------------------------------------------------------------------------------------------+\n",
      "\n"
     ]
    }
   ],
   "source": [
    "# Get top 5 book recommendations for selected users\n",
    "user_recommendations = model.recommendForUserSubset(users_subset, 5)\n",
    "user_recommendations.show(truncate=False)"
   ]
  },
  {
   "cell_type": "code",
   "execution_count": 16,
   "metadata": {},
   "outputs": [],
   "source": [
    "items_subset = ratings.select(\"bookid\").distinct().limit(10)"
   ]
  },
  {
   "cell_type": "code",
   "execution_count": 17,
   "metadata": {},
   "outputs": [
    {
     "name": "stdout",
     "output_type": "stream",
     "text": [
      "+----------+------------------------------------------------------------------------------------------------------------+\n",
      "|bookid    |recommendations                                                                                             |\n",
      "+----------+------------------------------------------------------------------------------------------------------------+\n",
      "|1585972800|[{608149, 0.92461187}, {601901, 0.92461187}, {487598, 0.92461187}, {38884, 0.9227219}, {579405, 0.89940804}]|\n",
      "|691005141 |[{43125, 0.6886607}, {256427, 0.68246627}, {437648, 0.68052465}, {194090, 0.68052465}, {507223, 0.6734114}] |\n",
      "|711934924 |[{179401, 0.8830842}, {350948, 0.86518353}, {71131, 0.8271331}, {371197, 0.8085005}, {200382, 0.80259246}]  |\n",
      "|815155565 |[{380120, 0.6774991}, {320124, 0.65003926}, {400122, 0.64351976}, {317910, 0.64351976}, {282357, 0.6198892}]|\n",
      "|880010495 |[{41495, 0.99852574}, {437648, 0.96930134}, {194090, 0.96930134}, {488433, 0.9495964}, {58245, 0.9465443}]  |\n",
      "|807041076 |[{330691, 1.0071424}, {247699, 1.004524}, {228274, 1.004524}, {76638, 0.95877075}, {527741, 0.92084044}]    |\n",
      "|824754956 |[{251305, 1.1073887}, {497309, 1.0629195}, {167168, 1.0079545}, {215694, 1.0073764}, {359679, 0.97228986}]  |\n",
      "|745601588 |[{64322, 0.9624484}, {565657, 0.9479124}, {610762, 0.93442124}, {133324, 0.93442124}, {110625, 0.8620706}]  |\n",
      "|1590030338|[{412221, 0.9879801}, {379881, 0.9879801}, {63831, 0.9482103}, {511036, 0.9062006}, {609661, 0.88695437}]   |\n",
      "+----------+------------------------------------------------------------------------------------------------------------+\n",
      "\n"
     ]
    }
   ],
   "source": [
    "# Get top 5 user recommendations for the selected books\n",
    "item_recommendations = model.recommendForItemSubset(items_subset, 5)\n",
    "item_recommendations.show(truncate=False)"
   ]
  },
  {
   "cell_type": "code",
   "execution_count": 18,
   "metadata": {},
   "outputs": [],
   "source": [
    "spark.stop()"
   ]
  }
 ],
 "metadata": {
  "kernelspec": {
   "display_name": "venv",
   "language": "python",
   "name": "python3"
  },
  "language_info": {
   "codemirror_mode": {
    "name": "ipython",
    "version": 3
   },
   "file_extension": ".py",
   "mimetype": "text/x-python",
   "name": "python",
   "nbconvert_exporter": "python",
   "pygments_lexer": "ipython3",
   "version": "3.10.8"
  }
 },
 "nbformat": 4,
 "nbformat_minor": 2
}
